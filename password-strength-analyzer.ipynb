{
 "cells": [
  {
   "cell_type": "code",
   "execution_count": 1,
   "metadata": {},
   "outputs": [],
   "source": [
    "import pandas as pd\n",
    "from sklearn.model_selection import train_test_split\n",
    "from sklearn.feature_extraction.text import TfidfVectorizer\n",
    "from sklearn.model_selection import train_test_split\n",
    "from sklearn.ensemble import RandomForestClassifier\n",
    "import numpy as np\n",
    "\n",
    "import warnings\n",
    "warnings.filterwarnings('ignore')"
   ]
  },
  {
   "cell_type": "code",
   "execution_count": 2,
   "metadata": {},
   "outputs": [
    {
     "name": "stdout",
     "output_type": "stream",
     "text": [
      "      password  strength-analyzed\n",
      "0     kzde5577                  1\n",
      "1     kino3434                  1\n",
      "2    visi7k1yr                  1\n",
      "3     megzy123                  1\n",
      "4  lamborghin1                  1\n"
     ]
    }
   ],
   "source": [
    "data = pd.read_csv(\"passwords.csv\")\n",
    "print(data.head())\n",
    "data = data.dropna()\n",
    "# convert to lowercase\n",
    "def word(password):\n",
    "    character=[]\n",
    "    for i in password:\n",
    "        character.append(i.lower())\n",
    "    return character\n",
    "\n",
    "# define input and target variables\n",
    "x = np.array(data[[\"password\"]])\n",
    "y = np.array(data[\"strength-analyzed\"])\n"
   ]
  },
  {
   "cell_type": "code",
   "execution_count": 3,
   "metadata": {},
   "outputs": [],
   "source": [
    "# convert string TF IDF features\n",
    "tdif = TfidfVectorizer(tokenizer=word)\n",
    "x = data['password'].tolist()  # convert it to 1D array str\n",
    "x = tdif.fit_transform(x)\n",
    "xtrain, xtest, ytrain, ytest = train_test_split(x, y, \n",
    "                                                test_size=0.35, \n",
    "                                                random_state=42)"
   ]
  },
  {
   "cell_type": "code",
   "execution_count": 4,
   "metadata": {},
   "outputs": [
    {
     "name": "stdout",
     "output_type": "stream",
     "text": [
      "0.874384236453202\n"
     ]
    }
   ],
   "source": [
    "model_train = RandomForestClassifier()\n",
    "# train the dataset\n",
    "model_train.fit(xtrain,ytrain)\n",
    "# accuracy check\n",
    "print(model_train.score(xtest,ytest))"
   ]
  },
  {
   "cell_type": "code",
   "execution_count": 5,
   "metadata": {},
   "outputs": [],
   "source": [
    "import getpass\n",
    "\n",
    "# input password in a protected way\n",
    "password = getpass.getpass(\"Enter a password: \")\n",
    "strength = {\n",
    "    0: \"Weak\",\n",
    "    1: \"Medium\",\n",
    "    2: \"Strong\"\n",
    "}\n",
    "user_data = tdif.transform([password]).toarray()\n",
    "# calculate the strength\n",
    "strength_score = model_train.predict(user_data)\n",
    "strength_score = strength[int(strength_score[0])]\n",
    "print(\"The calculated strength of password is: \", strength_score)\n"
   ]
  }
 ],
 "metadata": {
  "kernelspec": {
   "display_name": "Python 3",
   "language": "python",
   "name": "python3"
  },
  "language_info": {
   "codemirror_mode": {
    "name": "ipython",
    "version": 3
   },
   "file_extension": ".py",
   "mimetype": "text/x-python",
   "name": "python",
   "nbconvert_exporter": "python",
   "pygments_lexer": "ipython3",
   "version": "3.9.6"
  },
  "orig_nbformat": 4
 },
 "nbformat": 4,
 "nbformat_minor": 2
}
